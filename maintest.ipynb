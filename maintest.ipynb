{
 "cells": [
  {
   "cell_type": "code",
   "execution_count": 1,
   "id": "9196ffa9",
   "metadata": {},
   "outputs": [],
   "source": [
    "import cv2\n",
    "from tensorflow.keras.models import load_model\n",
    "from PIL import Image\n",
    "import numpy as np"
   ]
  },
  {
   "cell_type": "code",
   "execution_count": 2,
   "id": "d0d780da",
   "metadata": {},
   "outputs": [],
   "source": [
    "model=load_model('BrainTumor10Epochs.h5')"
   ]
  },
  {
   "cell_type": "code",
   "execution_count": 17,
   "id": "abd94bf9",
   "metadata": {},
   "outputs": [],
   "source": [
    "image=cv2.imread('C:\\\\Users\\\\DELL\\\\Desktop\\\\brain tumer\\\\braintumor_test\\\\pred\\\\pred57.jpg')\n"
   ]
  },
  {
   "cell_type": "code",
   "execution_count": 18,
   "id": "f71f48ed",
   "metadata": {},
   "outputs": [],
   "source": [
    "img = Image.fromarray(image)\n",
    "img = img.resize((64, 64))  # Provide a tuple (width, height) for resizing\n"
   ]
  },
  {
   "cell_type": "code",
   "execution_count": 12,
   "id": "6cf16b7e",
   "metadata": {},
   "outputs": [],
   "source": [
    "img=np.array(img)\n"
   ]
  },
  {
   "cell_type": "code",
   "execution_count": 13,
   "id": "7bee1e6a",
   "metadata": {},
   "outputs": [],
   "source": [
    "# print(img)"
   ]
  },
  {
   "cell_type": "code",
   "execution_count": 14,
   "id": "a898e9c9",
   "metadata": {},
   "outputs": [],
   "source": [
    "input_img=np.expand_dims(img, axis=0)"
   ]
  },
  {
   "cell_type": "markdown",
   "id": "beea3020",
   "metadata": {},
   "source": [
    "np.expand_dims to add an extra dimension to your image data. This is a common step when working with neural networks, as they often expect input data in a specific shape, typically including a batch dimension."
   ]
  },
  {
   "cell_type": "code",
   "execution_count": 15,
   "id": "eca4e953",
   "metadata": {},
   "outputs": [
    {
     "name": "stdout",
     "output_type": "stream",
     "text": [
      "[[0]]\n"
     ]
    }
   ],
   "source": [
    "r=model.predict_classes(input_img)\n",
    "print(r) # 1 means brain is effected by tumor otherwise 0 brain is not effected by tumor"
   ]
  },
  {
   "cell_type": "code",
   "execution_count": 16,
   "id": "e393711c",
   "metadata": {},
   "outputs": [
    {
     "name": "stdout",
     "output_type": "stream",
     "text": [
      "person not have Tumor\n"
     ]
    }
   ],
   "source": [
    "if(r==0):\n",
    "    print(\"person not have Tumor\")\n",
    "elif(r==1):\n",
    "    print(\"Person having Tumor \")"
   ]
  },
  {
   "cell_type": "code",
   "execution_count": null,
   "id": "c6ffd26d",
   "metadata": {},
   "outputs": [],
   "source": []
  }
 ],
 "metadata": {
  "kernelspec": {
   "display_name": "Python 3",
   "language": "python",
   "name": "python3"
  },
  "language_info": {
   "codemirror_mode": {
    "name": "ipython",
    "version": 3
   },
   "file_extension": ".py",
   "mimetype": "text/x-python",
   "name": "python",
   "nbconvert_exporter": "python",
   "pygments_lexer": "ipython3",
   "version": "3.8.8"
  }
 },
 "nbformat": 4,
 "nbformat_minor": 5
}
