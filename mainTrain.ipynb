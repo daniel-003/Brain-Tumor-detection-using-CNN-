{
 "cells": [
  {
   "cell_type": "code",
   "execution_count": 38,
   "id": "7ae185de",
   "metadata": {},
   "outputs": [],
   "source": [
    "import cv2\n",
    "import os\n",
    "from PIL import Image\n",
    "import numpy as np\n",
    "from pathlib import Path\n",
    "import matplotlib.pyplot as plt\n",
    "%matplotlib inline\n",
    "from sklearn.model_selection import train_test_split"
   ]
  },
  {
   "cell_type": "code",
   "execution_count": 39,
   "id": "dc219d18",
   "metadata": {},
   "outputs": [],
   "source": [
    "image_directory='datasets/'"
   ]
  },
  {
   "cell_type": "code",
   "execution_count": 40,
   "id": "a9a8f3d7",
   "metadata": {},
   "outputs": [],
   "source": [
    "no_tumor_images=os.listdir(image_directory+ 'no/')\n",
    "# print(no_tumor_images)"
   ]
  },
  {
   "cell_type": "code",
   "execution_count": 41,
   "id": "c279632f",
   "metadata": {},
   "outputs": [
    {
     "name": "stdout",
     "output_type": "stream",
     "text": [
      "['y0.jpg', 'y1.jpg', 'y10.jpg', 'y100.jpg', 'y1000.jpg', 'y1001.jpg', 'y1002.jpg', 'y1003.jpg', 'y1004.jpg', 'y1005.jpg', 'y1006.jpg', 'y1007.jpg', 'y1008.jpg', 'y1009.jpg', 'y101.jpg', 'y1010.jpg', 'y1011.jpg', 'y1012.jpg', 'y1013.jpg', 'y1014.jpg', 'y1015.jpg', 'y1016.jpg', 'y1017.jpg', 'y1018.jpg', 'y1019.jpg', 'y102.jpg', 'y1020.jpg', 'y1021.jpg', 'y1022.jpg', 'y1023.jpg', 'y1024.jpg', 'y1025.jpg', 'y1026.jpg', 'y1027.jpg', 'y1028.jpg', 'y1029.jpg', 'y103.jpg', 'y1030.jpg', 'y1031.jpg', 'y1032.jpg', 'y1033.jpg', 'y1034.jpg', 'y1035.jpg', 'y1036.jpg', 'y1037.jpg', 'y1038.jpg', 'y1039.jpg', 'y104.jpg', 'y1040.jpg', 'y1041.jpg', 'y1042.jpg', 'y1043.jpg', 'y1044.jpg', 'y1045.jpg', 'y1046.jpg', 'y1047.jpg', 'y1048.jpg', 'y1049.jpg', 'y105.jpg', 'y1050.jpg', 'y1051.jpg', 'y1052.jpg', 'y1053.jpg', 'y1054.jpg', 'y1055.jpg', 'y1056.jpg', 'y1057.jpg', 'y1058.jpg', 'y1059.jpg', 'y106.jpg', 'y1060.jpg', 'y1061.jpg', 'y1062.jpg', 'y1063.jpg', 'y1064.jpg', 'y1065.jpg', 'y1066.jpg', 'y1067.jpg', 'y1068.jpg', 'y1069.jpg', 'y107.jpg', 'y1070.jpg', 'y1071.jpg', 'y1072.jpg', 'y1073.jpg', 'y1074.jpg', 'y1075.jpg', 'y1076.jpg', 'y1077.jpg', 'y1078.jpg', 'y1079.jpg', 'y108.jpg', 'y1080.jpg', 'y1081.jpg', 'y1082.jpg', 'y1083.jpg', 'y1084.jpg', 'y1085.jpg', 'y1086.jpg', 'y1087.jpg', 'y1088.jpg', 'y1089.jpg', 'y109.jpg', 'y1090.jpg', 'y1091.jpg', 'y1092.jpg', 'y1093.jpg', 'y1094.jpg', 'y1095.jpg', 'y1096.jpg', 'y1097.jpg', 'y1098.jpg', 'y1099.jpg', 'y11.jpg', 'y110.jpg', 'y1100.jpg', 'y1101.jpg', 'y1102.jpg', 'y1103.jpg', 'y1104.jpg', 'y1105.jpg', 'y1106.jpg', 'y1107.jpg', 'y1108.jpg', 'y1109.jpg', 'y111.jpg', 'y1110.jpg', 'y1111.jpg', 'y1112.jpg', 'y1113.jpg', 'y1114.jpg', 'y1115.jpg', 'y1116.jpg', 'y1117.jpg', 'y1118.jpg', 'y1119.jpg', 'y112.jpg', 'y1120.jpg', 'y1121.jpg', 'y1122.jpg', 'y1123.jpg', 'y1124.jpg', 'y1125.jpg', 'y1126.jpg', 'y1127.jpg', 'y1128.jpg', 'y1129.jpg', 'y113.jpg', 'y1130.jpg', 'y1131.jpg', 'y1132.jpg', 'y1133.jpg', 'y1134.jpg', 'y1135.jpg', 'y1136.jpg', 'y1137.jpg', 'y1138.jpg', 'y1139.jpg', 'y114.jpg', 'y1140.jpg', 'y1141.jpg', 'y1142.jpg', 'y1143.jpg', 'y1144.jpg', 'y1145.jpg', 'y1146.jpg', 'y1147.jpg', 'y1148.jpg', 'y1149.jpg', 'y115.jpg', 'y1150.jpg', 'y1151.jpg', 'y1152.jpg', 'y1153.jpg', 'y1154.jpg', 'y1155.jpg', 'y1156.jpg', 'y1157.jpg', 'y1158.jpg', 'y1159.jpg', 'y116.jpg', 'y1160.jpg', 'y1161.jpg', 'y1162.jpg', 'y1163.jpg', 'y1164.jpg', 'y1165.jpg', 'y1166.jpg', 'y1167.jpg', 'y1168.jpg', 'y1169.jpg', 'y117.jpg', 'y1170.jpg', 'y1171.jpg', 'y1172.jpg', 'y1173.jpg', 'y1174.jpg', 'y1175.jpg', 'y1176.jpg', 'y1177.jpg', 'y1178.jpg', 'y1179.jpg', 'y118.jpg', 'y1180.jpg', 'y1181.jpg', 'y1182.jpg', 'y1183.jpg', 'y1184.jpg', 'y1185.jpg', 'y1186.jpg', 'y1187.jpg', 'y1188.jpg', 'y1189.jpg', 'y119.jpg', 'y1190.jpg', 'y1191.jpg', 'y1192.jpg', 'y1193.jpg', 'y1194.jpg', 'y1195.jpg', 'y1196.jpg', 'y1197.jpg', 'y1198.jpg', 'y1199.jpg', 'y12.jpg', 'y120.jpg', 'y1200.jpg', 'y1201.jpg', 'y1202.jpg', 'y1203.jpg', 'y1204.jpg', 'y1205.jpg', 'y1206.jpg', 'y1207.jpg', 'y1208.jpg', 'y1209.jpg', 'y121.jpg', 'y1210.jpg', 'y1211.jpg', 'y1212.jpg', 'y1213.jpg', 'y1214.jpg', 'y1215.jpg', 'y1216.jpg', 'y1217.jpg', 'y1218.jpg', 'y1219.jpg', 'y122.jpg', 'y1220.jpg', 'y1221.jpg', 'y1222.jpg', 'y1223.jpg', 'y1224.jpg', 'y1225.jpg', 'y1226.jpg', 'y1227.jpg', 'y1228.jpg', 'y1229.jpg', 'y123.jpg', 'y1230.jpg', 'y1231.jpg', 'y1232.jpg', 'y1233.jpg', 'y1234.jpg', 'y1235.jpg', 'y1236.jpg', 'y1237.jpg', 'y1238.jpg', 'y1239.jpg', 'y124.jpg', 'y1240.jpg', 'y1241.jpg', 'y1242.jpg', 'y1243.jpg', 'y1244.jpg', 'y1245.jpg', 'y1246.jpg', 'y1247.jpg', 'y1248.jpg', 'y1249.jpg', 'y125.jpg', 'y1250.jpg', 'y1251.jpg', 'y1252.jpg', 'y1253.jpg', 'y1254.jpg', 'y1255.jpg', 'y1256.jpg', 'y1257.jpg', 'y1258.jpg', 'y1259.jpg', 'y126.jpg', 'y1260.jpg', 'y1261.jpg', 'y1262.jpg', 'y1263.jpg', 'y1264.jpg', 'y1265.jpg', 'y1266.jpg', 'y1267.jpg', 'y1268.jpg', 'y1269.jpg', 'y127.jpg', 'y1270.jpg', 'y1271.jpg', 'y1272.jpg', 'y1273.jpg', 'y1274.jpg', 'y1275.jpg', 'y1276.jpg', 'y1277.jpg', 'y1278.jpg', 'y1279.jpg', 'y128.jpg', 'y1280.jpg', 'y1281.jpg', 'y1282.jpg', 'y1283.jpg', 'y1284.jpg', 'y1285.jpg', 'y1286.jpg', 'y1287.jpg', 'y1288.jpg', 'y1289.jpg', 'y129.jpg', 'y1290.jpg', 'y1291.jpg', 'y1292.jpg', 'y1293.jpg', 'y1294.jpg', 'y1295.jpg', 'y1296.jpg', 'y1297.jpg', 'y1298.jpg', 'y1299.jpg', 'y13.jpg', 'y130.jpg', 'y1300.jpg', 'y1301.jpg', 'y1302.jpg', 'y1303.jpg', 'y1304.jpg', 'y1305.jpg', 'y1306.jpg', 'y1307.jpg', 'y1308.jpg', 'y1309.jpg', 'y131.jpg', 'y1310.jpg', 'y1311.jpg', 'y1312.jpg', 'y1313.jpg', 'y1314.jpg', 'y1315.jpg', 'y1316.jpg', 'y1317.jpg', 'y1318.jpg', 'y1319.jpg', 'y132.jpg', 'y1320.jpg', 'y1321.jpg', 'y1322.jpg', 'y1323.jpg', 'y1324.jpg', 'y1325.jpg', 'y1326.jpg', 'y1327.jpg', 'y1328.jpg', 'y1329.jpg', 'y133.jpg', 'y1330.jpg', 'y1331.jpg', 'y1332.jpg', 'y1333.jpg', 'y1334.jpg', 'y1335.jpg', 'y1336.jpg', 'y1337.jpg', 'y1338.jpg', 'y1339.jpg', 'y134.jpg', 'y1340.jpg', 'y1341.jpg', 'y1342.jpg', 'y1343.jpg', 'y1344.jpg', 'y1345.jpg', 'y1346.jpg', 'y1347.jpg', 'y1348.jpg', 'y1349.jpg', 'y135.jpg', 'y1350.jpg', 'y1351.jpg', 'y1352.jpg', 'y1353.jpg', 'y1354.jpg', 'y1355.jpg', 'y1356.jpg', 'y1357.jpg', 'y1358.jpg', 'y1359.jpg', 'y136.jpg', 'y1360.jpg', 'y1361.jpg', 'y1362.jpg', 'y1363.jpg', 'y1364.jpg', 'y1365.jpg', 'y1366.jpg', 'y1367.jpg', 'y1368.jpg', 'y1369.jpg', 'y137.jpg', 'y1370.jpg', 'y1371.jpg', 'y1372.jpg', 'y1373.jpg', 'y1374.jpg', 'y1375.jpg', 'y1376.jpg', 'y1377.jpg', 'y1378.jpg', 'y1379.jpg', 'y138.jpg', 'y1380.jpg', 'y1381.jpg', 'y1382.jpg', 'y1383.jpg', 'y1384.jpg', 'y1385.jpg', 'y1386.jpg', 'y1387.jpg', 'y1388.jpg', 'y1389.jpg', 'y139.jpg', 'y1390.jpg', 'y1391.jpg', 'y1392.jpg', 'y1393.jpg', 'y1394.jpg', 'y1395.jpg', 'y1396.jpg', 'y1397.jpg', 'y1398.jpg', 'y1399.jpg', 'y14.jpg', 'y140.jpg', 'y1400.jpg', 'y1401.jpg', 'y1402.jpg', 'y1403.jpg', 'y1404.jpg', 'y1405.jpg', 'y1406.jpg', 'y1407.jpg', 'y1408.jpg', 'y1409.jpg', 'y141.jpg', 'y1410.jpg', 'y1411.jpg', 'y1412.jpg', 'y1413.jpg', 'y1414.jpg', 'y1415.jpg', 'y1416.jpg', 'y1417.jpg', 'y1418.jpg', 'y1419.jpg', 'y142.jpg', 'y1420.jpg', 'y1421.jpg', 'y1422.jpg', 'y1423.jpg', 'y1424.jpg', 'y1425.jpg', 'y1426.jpg', 'y1427.jpg', 'y1428.jpg', 'y1429.jpg', 'y143.jpg', 'y1430.jpg', 'y1431.jpg', 'y1432.jpg', 'y1433.jpg', 'y1434.jpg', 'y1435.jpg', 'y1436.jpg', 'y1437.jpg', 'y1438.jpg', 'y1439.jpg', 'y144.jpg', 'y1440.jpg', 'y1441.jpg', 'y1442.jpg', 'y1443.jpg', 'y1444.jpg', 'y1445.jpg', 'y1446.jpg', 'y1447.jpg', 'y1448.jpg', 'y1449.jpg', 'y145.jpg', 'y1450.jpg', 'y1451.jpg', 'y1452.jpg', 'y1453.jpg', 'y1454.jpg', 'y1455.jpg', 'y1456.jpg', 'y1457.jpg', 'y1458.jpg', 'y1459.jpg', 'y146.jpg', 'y1460.jpg', 'y1461.jpg', 'y1462.jpg', 'y1463.jpg', 'y1464.jpg', 'y1465.jpg', 'y1466.jpg', 'y1467.jpg', 'y1468.jpg', 'y1469.jpg', 'y147.jpg', 'y1470.jpg', 'y1471.jpg', 'y1472.jpg', 'y1473.jpg', 'y1474.jpg', 'y1475.jpg', 'y1476.jpg', 'y1477.jpg', 'y1478.jpg', 'y1479.jpg', 'y148.jpg', 'y1480.jpg', 'y1481.jpg', 'y1482.jpg', 'y1483.jpg', 'y1484.jpg', 'y1485.jpg', 'y1486.jpg', 'y1487.jpg', 'y1488.jpg', 'y1489.jpg', 'y149.jpg', 'y1490.jpg', 'y1491.jpg', 'y1492.jpg', 'y1493.jpg', 'y1494.jpg', 'y1495.jpg', 'y1496.jpg', 'y1497.jpg', 'y1498.jpg', 'y1499.jpg', 'y15.jpg', 'y150.jpg', 'y151.jpg', 'y152.jpg', 'y153.jpg', 'y154.jpg', 'y155.jpg', 'y156.jpg', 'y157.jpg', 'y158.jpg', 'y159.jpg', 'y16.jpg', 'y160.jpg', 'y161.jpg', 'y162.jpg', 'y163.jpg', 'y164.jpg', 'y165.jpg', 'y166.jpg', 'y167.jpg', 'y168.jpg', 'y169.jpg', 'y17.jpg', 'y170.jpg', 'y171.jpg', 'y172.jpg', 'y173.jpg', 'y174.jpg', 'y175.jpg', 'y176.jpg', 'y177.jpg', 'y178.jpg', 'y179.jpg', 'y18.jpg', 'y180.jpg', 'y181.jpg', 'y182.jpg', 'y183.jpg', 'y184.jpg', 'y185.jpg', 'y186.jpg', 'y187.jpg', 'y188.jpg', 'y189.jpg', 'y19.jpg', 'y190.jpg', 'y191.jpg', 'y192.jpg', 'y193.jpg', 'y194.jpg', 'y195.jpg', 'y196.jpg', 'y197.jpg', 'y198.jpg', 'y199.jpg', 'y2.jpg', 'y20.jpg', 'y200.jpg', 'y201.jpg', 'y202.jpg', 'y203.jpg', 'y204.jpg', 'y205.jpg', 'y206.jpg', 'y207.jpg', 'y208.jpg', 'y209.jpg', 'y21.jpg', 'y210.jpg', 'y211.jpg', 'y212.jpg', 'y213.jpg', 'y214.jpg', 'y215.jpg', 'y216.jpg', 'y217.jpg', 'y218.jpg', 'y219.jpg', 'y22.jpg', 'y220.jpg', 'y221.jpg', 'y222.jpg', 'y223.jpg', 'y224.jpg', 'y225.jpg', 'y226.jpg', 'y227.jpg', 'y228.jpg', 'y229.jpg', 'y23.jpg', 'y230.jpg', 'y231.jpg', 'y232.jpg', 'y233.jpg', 'y234.jpg', 'y235.jpg', 'y236.jpg', 'y237.jpg', 'y238.jpg', 'y239.jpg', 'y24.jpg', 'y240.jpg', 'y241.jpg', 'y242.jpg', 'y243.jpg', 'y244.jpg', 'y245.jpg', 'y246.jpg', 'y247.jpg', 'y248.jpg', 'y249.jpg', 'y25.jpg', 'y250.jpg', 'y251.jpg', 'y252.jpg', 'y253.jpg', 'y254.jpg', 'y255.jpg', 'y256.jpg', 'y257.jpg', 'y258.jpg', 'y259.jpg', 'y26.jpg', 'y260.jpg', 'y261.jpg', 'y262.jpg', 'y263.jpg', 'y264.jpg', 'y265.jpg', 'y266.jpg', 'y267.jpg', 'y268.jpg', 'y269.jpg', 'y27.jpg', 'y270.jpg', 'y271.jpg', 'y272.jpg', 'y273.jpg', 'y274.jpg', 'y275.jpg', 'y276.jpg', 'y277.jpg', 'y278.jpg', 'y279.jpg', 'y28.jpg', 'y280.jpg', 'y281.jpg', 'y282.jpg', 'y283.jpg', 'y284.jpg', 'y285.jpg', 'y286.jpg', 'y287.jpg', 'y288.jpg', 'y289.jpg', 'y29.jpg', 'y290.jpg', 'y291.jpg', 'y292.jpg', 'y293.jpg', 'y294.jpg', 'y295.jpg', 'y296.jpg', 'y297.jpg', 'y298.jpg', 'y299.jpg', 'y3.jpg', 'y30.jpg', 'y300.jpg', 'y301.jpg', 'y302.jpg', 'y303.jpg', 'y304.jpg', 'y305.jpg', 'y306.jpg', 'y307.jpg', 'y308.jpg', 'y309.jpg', 'y31.jpg', 'y310.jpg', 'y311.jpg', 'y312.jpg', 'y313.jpg', 'y314.jpg', 'y315.jpg', 'y316.jpg', 'y317.jpg', 'y318.jpg', 'y319.jpg', 'y32.jpg', 'y320.jpg', 'y321.jpg', 'y322.jpg', 'y323.jpg', 'y324.jpg', 'y325.jpg', 'y326.jpg', 'y327.jpg', 'y328.jpg', 'y329.jpg', 'y33.jpg', 'y330.jpg', 'y331.jpg', 'y332.jpg', 'y333.jpg', 'y334.jpg', 'y335.jpg', 'y336.jpg', 'y337.jpg', 'y338.jpg', 'y339.jpg', 'y34.jpg', 'y340.jpg', 'y341.jpg', 'y342.jpg', 'y343.jpg', 'y344.jpg', 'y345.jpg', 'y346.jpg', 'y347.jpg', 'y348.jpg', 'y349.jpg', 'y35.jpg', 'y350.jpg', 'y351.jpg', 'y352.jpg', 'y353.jpg', 'y354.jpg', 'y355.jpg', 'y356.jpg', 'y357.jpg', 'y358.jpg', 'y359.jpg', 'y36.jpg', 'y360.jpg', 'y361.jpg', 'y362.jpg', 'y363.jpg', 'y364.jpg', 'y365.jpg', 'y366.jpg', 'y367.jpg', 'y368.jpg', 'y369.jpg', 'y37.jpg', 'y370.jpg', 'y371.jpg', 'y372.jpg', 'y373.jpg', 'y374.jpg', 'y375.jpg', 'y376.jpg', 'y377.jpg', 'y378.jpg', 'y379.jpg', 'y38.jpg', 'y380.jpg', 'y381.jpg', 'y382.jpg', 'y383.jpg', 'y384.jpg', 'y385.jpg', 'y386.jpg', 'y387.jpg', 'y388.jpg', 'y389.jpg', 'y39.jpg', 'y390.jpg', 'y391.jpg', 'y392.jpg', 'y393.jpg', 'y394.jpg', 'y395.jpg', 'y396.jpg', 'y397.jpg', 'y398.jpg', 'y399.jpg', 'y4.jpg', 'y40.jpg', 'y400.jpg', 'y401.jpg', 'y402.jpg', 'y403.jpg', 'y404.jpg', 'y405.jpg', 'y406.jpg', 'y407.jpg', 'y408.jpg', 'y409.jpg', 'y41.jpg', 'y410.jpg', 'y411.jpg', 'y412.jpg', 'y413.jpg', 'y414.jpg', 'y415.jpg', 'y416.jpg', 'y417.jpg', 'y418.jpg', 'y419.jpg', 'y42.jpg', 'y420.jpg', 'y421.jpg', 'y422.jpg', 'y423.jpg', 'y424.jpg', 'y425.jpg', 'y426.jpg', 'y427.jpg', 'y428.jpg', 'y429.jpg', 'y43.jpg', 'y430.jpg', 'y431.jpg', 'y432.jpg', 'y433.jpg', 'y434.jpg', 'y435.jpg', 'y436.jpg', 'y437.jpg', 'y438.jpg', 'y439.jpg', 'y44.jpg', 'y440.jpg', 'y441.jpg', 'y442.jpg', 'y443.jpg', 'y444.jpg', 'y445.jpg', 'y446.jpg', 'y447.jpg', 'y448.jpg', 'y449.jpg', 'y45.jpg', 'y450.jpg', 'y451.jpg', 'y452.jpg', 'y453.jpg', 'y454.jpg', 'y455.jpg', 'y456.jpg', 'y457.jpg', 'y458.jpg', 'y459.jpg', 'y46.jpg', 'y460.jpg', 'y461.jpg', 'y462.jpg', 'y463.jpg', 'y464.jpg', 'y465.jpg', 'y466.jpg', 'y467.jpg', 'y468.jpg', 'y469.jpg', 'y47.jpg', 'y470.jpg', 'y471.jpg', 'y472.jpg', 'y473.jpg', 'y474.jpg', 'y475.jpg', 'y476.jpg', 'y477.jpg', 'y478.jpg', 'y479.jpg', 'y48.jpg', 'y480.jpg', 'y481.jpg', 'y482.jpg', 'y483.jpg', 'y484.jpg', 'y485.jpg', 'y486.jpg', 'y487.jpg', 'y488.jpg', 'y489.jpg', 'y49.jpg', 'y490.jpg', 'y491.jpg', 'y492.jpg', 'y493.jpg', 'y494.jpg', 'y495.jpg', 'y496.jpg', 'y497.jpg', 'y498.jpg', 'y499.jpg', 'y5.jpg', 'y50.jpg', 'y500.jpg', 'y501.jpg', 'y502.jpg', 'y503.jpg', 'y504.jpg', 'y505.jpg', 'y506.jpg', 'y507.jpg', 'y508.jpg', 'y509.jpg', 'y51.jpg', 'y510.jpg', 'y511.jpg', 'y512.jpg', 'y513.jpg', 'y514.jpg', 'y515.jpg', 'y516.jpg', 'y517.jpg', 'y518.jpg', 'y519.jpg', 'y52.jpg', 'y520.jpg', 'y521.jpg', 'y522.jpg', 'y523.jpg', 'y524.jpg', 'y525.jpg', 'y526.jpg', 'y527.jpg', 'y528.jpg', 'y529.jpg', 'y53.jpg', 'y530.jpg', 'y531.jpg', 'y532.jpg', 'y533.jpg', 'y534.jpg', 'y535.jpg', 'y536.jpg', 'y537.jpg', 'y538.jpg', 'y539.jpg', 'y54.jpg', 'y540.jpg', 'y541.jpg', 'y542.jpg', 'y543.jpg', 'y544.jpg', 'y545.jpg', 'y546.jpg', 'y547.jpg', 'y548.jpg', 'y549.jpg', 'y55.jpg', 'y550.jpg', 'y551.jpg', 'y552.jpg', 'y553.jpg', 'y554.jpg', 'y555.jpg', 'y556.jpg', 'y557.jpg', 'y558.jpg', 'y559.jpg', 'y56.jpg', 'y560.jpg', 'y561.jpg', 'y562.jpg', 'y563.jpg', 'y564.jpg', 'y565.jpg', 'y566.jpg', 'y567.jpg', 'y568.jpg', 'y569.jpg', 'y57.jpg', 'y570.jpg', 'y571.jpg', 'y572.jpg', 'y573.jpg', 'y574.jpg', 'y575.jpg', 'y576.jpg', 'y577.jpg', 'y578.jpg', 'y579.jpg', 'y58.jpg', 'y580.jpg', 'y581.jpg', 'y582.jpg', 'y583.jpg', 'y584.jpg', 'y585.jpg', 'y586.jpg', 'y587.jpg', 'y588.jpg', 'y589.jpg', 'y59.jpg', 'y590.jpg', 'y591.jpg', 'y592.jpg', 'y593.jpg', 'y594.jpg', 'y595.jpg', 'y596.jpg', 'y597.jpg', 'y598.jpg', 'y599.jpg', 'y6.jpg', 'y60.jpg', 'y600.jpg', 'y601.jpg', 'y602.jpg', 'y603.jpg', 'y604.jpg', 'y605.jpg', 'y606.jpg', 'y607.jpg', 'y608.jpg', 'y609.jpg', 'y61.jpg', 'y610.jpg', 'y611.jpg', 'y612.jpg', 'y613.jpg', 'y614.jpg', 'y615.jpg', 'y616.jpg', 'y617.jpg', 'y618.jpg', 'y619.jpg', 'y62.jpg', 'y620.jpg', 'y621.jpg', 'y622.jpg', 'y623.jpg', 'y624.jpg', 'y625.jpg', 'y626.jpg', 'y627.jpg', 'y628.jpg', 'y629.jpg', 'y63.jpg', 'y630.jpg', 'y631.jpg', 'y632.jpg', 'y633.jpg', 'y634.jpg', 'y635.jpg', 'y636.jpg', 'y637.jpg', 'y638.jpg', 'y639.jpg', 'y64.jpg', 'y640.jpg', 'y641.jpg', 'y642.jpg', 'y643.jpg', 'y644.jpg', 'y645.jpg', 'y646.jpg', 'y647.jpg', 'y648.jpg', 'y649.jpg', 'y65.jpg', 'y650.jpg', 'y651.jpg', 'y652.jpg', 'y653.jpg', 'y654.jpg', 'y655.jpg', 'y656.jpg', 'y657.jpg', 'y658.jpg', 'y659.jpg', 'y66.jpg', 'y660.jpg', 'y661.jpg', 'y662.jpg', 'y663.jpg', 'y664.jpg', 'y665.jpg', 'y666.jpg', 'y667.jpg', 'y668.jpg', 'y669.jpg', 'y67.jpg', 'y670.jpg', 'y671.jpg', 'y672.jpg', 'y673.jpg', 'y674.jpg', 'y675.jpg', 'y676.jpg', 'y677.jpg', 'y678.jpg', 'y679.jpg', 'y68.jpg', 'y680.jpg', 'y681.jpg', 'y682.jpg', 'y683.jpg', 'y684.jpg', 'y685.jpg', 'y686.jpg', 'y687.jpg', 'y688.jpg', 'y689.jpg', 'y69.jpg', 'y690.jpg', 'y691.jpg', 'y692.jpg', 'y693.jpg', 'y694.jpg', 'y695.jpg', 'y696.jpg', 'y697.jpg', 'y698.jpg', 'y699.jpg', 'y7.jpg', 'y70.jpg', 'y700.jpg', 'y701.jpg', 'y702.jpg', 'y703.jpg', 'y704.jpg', 'y705.jpg', 'y706.jpg', 'y707.jpg', 'y708.jpg', 'y709.jpg', 'y71.jpg', 'y710.jpg', 'y711.jpg', 'y712.jpg', 'y713.jpg', 'y714.jpg', 'y715.jpg', 'y716.jpg', 'y717.jpg', 'y718.jpg', 'y719.jpg', 'y72.jpg', 'y720.jpg', 'y721.jpg', 'y722.jpg', 'y723.jpg', 'y724.jpg', 'y725.jpg', 'y726.jpg', 'y727.jpg', 'y728.jpg', 'y729.jpg', 'y73.jpg', 'y730.jpg', 'y731.jpg', 'y732.jpg', 'y733.jpg', 'y734.jpg', 'y735.jpg', 'y736.jpg', 'y737.jpg', 'y738.jpg', 'y739.jpg', 'y74.jpg', 'y740.jpg', 'y741.jpg', 'y742.jpg', 'y743.jpg', 'y744.jpg', 'y745.jpg', 'y746.jpg', 'y747.jpg', 'y748.jpg', 'y749.jpg', 'y75.jpg', 'y750.jpg', 'y751.jpg', 'y752.jpg', 'y753.jpg', 'y754.jpg', 'y755.jpg', 'y756.jpg', 'y757.jpg', 'y758.jpg', 'y759.jpg', 'y76.jpg', 'y760.jpg', 'y761.jpg', 'y762.jpg', 'y763.jpg', 'y764.jpg', 'y765.jpg', 'y766.jpg', 'y767.jpg', 'y768.jpg', 'y769.jpg', 'y77.jpg', 'y770.jpg', 'y771.jpg', 'y772.jpg', 'y773.jpg', 'y774.jpg', 'y775.jpg', 'y776.jpg', 'y777.jpg', 'y778.jpg', 'y779.jpg', 'y78.jpg', 'y780.jpg', 'y781.jpg', 'y782.jpg', 'y783.jpg', 'y784.jpg', 'y785.jpg', 'y786.jpg', 'y787.jpg', 'y788.jpg', 'y789.jpg', 'y79.jpg', 'y790.jpg', 'y791.jpg', 'y792.jpg', 'y793.jpg', 'y794.jpg', 'y795.jpg', 'y796.jpg', 'y797.jpg', 'y798.jpg', 'y799.jpg', 'y8.jpg', 'y80.jpg', 'y800.jpg', 'y801.jpg', 'y802.jpg', 'y803.jpg', 'y804.jpg', 'y805.jpg', 'y806.jpg', 'y807.jpg', 'y808.jpg', 'y809.jpg', 'y81.jpg', 'y810.jpg', 'y811.jpg', 'y812.jpg', 'y813.jpg', 'y814.jpg', 'y815.jpg', 'y816.jpg', 'y817.jpg', 'y818.jpg', 'y819.jpg', 'y82.jpg', 'y820.jpg', 'y821.jpg', 'y822.jpg', 'y823.jpg', 'y824.jpg', 'y825.jpg', 'y826.jpg', 'y827.jpg', 'y828.jpg', 'y829.jpg', 'y83.jpg', 'y830.jpg', 'y831.jpg', 'y832.jpg', 'y833.jpg', 'y834.jpg', 'y835.jpg', 'y836.jpg', 'y837.jpg', 'y838.jpg', 'y839.jpg', 'y84.jpg', 'y840.jpg', 'y841.jpg', 'y842.jpg', 'y843.jpg', 'y844.jpg', 'y845.jpg', 'y846.jpg', 'y847.jpg', 'y848.jpg', 'y849.jpg', 'y85.jpg', 'y850.jpg', 'y851.jpg', 'y852.jpg', 'y853.jpg', 'y854.jpg', 'y855.jpg', 'y856.jpg', 'y857.jpg', 'y858.jpg', 'y859.jpg', 'y86.jpg', 'y860.jpg', 'y861.jpg', 'y862.jpg', 'y863.jpg', 'y864.jpg', 'y865.jpg', 'y866.jpg', 'y867.jpg', 'y868.jpg', 'y869.jpg', 'y87.jpg', 'y870.jpg', 'y871.jpg', 'y872.jpg', 'y873.jpg', 'y874.jpg', 'y875.jpg', 'y876.jpg', 'y877.jpg', 'y878.jpg', 'y879.jpg', 'y88.jpg', 'y880.jpg', 'y881.jpg', 'y882.jpg', 'y883.jpg', 'y884.jpg', 'y885.jpg', 'y886.jpg', 'y887.jpg', 'y888.jpg', 'y889.jpg', 'y89.jpg', 'y890.jpg', 'y891.jpg', 'y892.jpg', 'y893.jpg', 'y894.jpg', 'y895.jpg', 'y896.jpg', 'y897.jpg', 'y898.jpg', 'y899.jpg', 'y9.jpg', 'y90.jpg', 'y900.jpg', 'y901.jpg', 'y902.jpg', 'y903.jpg', 'y904.jpg', 'y905.jpg', 'y906.jpg', 'y907.jpg', 'y908.jpg', 'y909.jpg', 'y91.jpg', 'y910.jpg', 'y911.jpg', 'y912.jpg', 'y913.jpg', 'y914.jpg', 'y915.jpg', 'y916.jpg', 'y917.jpg', 'y918.jpg', 'y919.jpg', 'y92.jpg', 'y920.jpg', 'y921.jpg', 'y922.jpg', 'y923.jpg', 'y924.jpg', 'y925.jpg', 'y926.jpg', 'y927.jpg', 'y928.jpg', 'y929.jpg', 'y93.jpg', 'y930.jpg', 'y931.jpg', 'y932.jpg', 'y933.jpg', 'y934.jpg', 'y935.jpg', 'y936.jpg', 'y937.jpg', 'y938.jpg', 'y939.jpg', 'y94.jpg', 'y940.jpg', 'y941.jpg', 'y942.jpg', 'y943.jpg', 'y944.jpg', 'y945.jpg', 'y946.jpg', 'y947.jpg', 'y948.jpg', 'y949.jpg', 'y95.jpg', 'y950.jpg', 'y951.jpg', 'y952.jpg', 'y953.jpg', 'y954.jpg', 'y955.jpg', 'y956.jpg', 'y957.jpg', 'y958.jpg', 'y959.jpg', 'y96.jpg', 'y960.jpg', 'y961.jpg', 'y962.jpg', 'y963.jpg', 'y964.jpg', 'y965.jpg', 'y966.jpg', 'y967.jpg', 'y968.jpg', 'y969.jpg', 'y97.jpg', 'y970.jpg', 'y971.jpg', 'y972.jpg', 'y973.jpg', 'y974.jpg', 'y975.jpg', 'y976.jpg', 'y977.jpg', 'y978.jpg', 'y979.jpg', 'y98.jpg', 'y980.jpg', 'y981.jpg', 'y982.jpg', 'y983.jpg', 'y984.jpg', 'y985.jpg', 'y986.jpg', 'y987.jpg', 'y988.jpg', 'y989.jpg', 'y99.jpg', 'y990.jpg', 'y991.jpg', 'y992.jpg', 'y993.jpg', 'y994.jpg', 'y995.jpg', 'y996.jpg', 'y997.jpg', 'y998.jpg', 'y999.jpg']\n"
     ]
    }
   ],
   "source": [
    "yes_tumor_images=os.listdir(image_directory+ 'yes/')\n",
    "print(yes_tumor_images)"
   ]
  },
  {
   "cell_type": "code",
   "execution_count": 42,
   "id": "ca89ea2f",
   "metadata": {},
   "outputs": [],
   "source": [
    "dataset=[]\n",
    "label=[]\n",
    "INPUT_SIZE=64"
   ]
  },
  {
   "cell_type": "code",
   "execution_count": 43,
   "id": "30c5ca6b",
   "metadata": {},
   "outputs": [],
   "source": [
    "for i, image_name in enumerate(no_tumor_images):\n",
    "    if image_name.split('.')[1] == 'jpg':\n",
    "        image = cv2.imread(image_directory+'no/'+image_name) # Use os.path.join for correct path construction\n",
    "        image = Image.fromarray(image, 'RGB')\n",
    "        image = image.resize((INPUT_SIZE,INPUT_SIZE))\n",
    "        dataset.append(np.array(image))\n",
    "        label.append(0)"
   ]
  },
  {
   "cell_type": "code",
   "execution_count": 44,
   "id": "483e1391",
   "metadata": {},
   "outputs": [],
   "source": [
    "for i, image_name in enumerate(yes_tumor_images):\n",
    "    if image_name.split('.')[1] == 'jpg':\n",
    "        image = cv2.imread(image_directory+'yes/'+image_name)  # Use os.path.join for correct path construction\n",
    "        image = Image.fromarray(image, 'RGB')\n",
    "        image = image.resize((INPUT_SIZE,INPUT_SIZE))\n",
    "        dataset.append(np.array(image))\n",
    "        label.append(1)"
   ]
  },
  {
   "cell_type": "code",
   "execution_count": 45,
   "id": "0f4486d4",
   "metadata": {},
   "outputs": [
    {
     "name": "stdout",
     "output_type": "stream",
     "text": [
      "3000\n"
     ]
    }
   ],
   "source": [
    "print(len(dataset))"
   ]
  },
  {
   "cell_type": "code",
   "execution_count": 46,
   "id": "dff83e28",
   "metadata": {},
   "outputs": [
    {
     "name": "stdout",
     "output_type": "stream",
     "text": [
      "3000\n"
     ]
    }
   ],
   "source": [
    "print(len(label))"
   ]
  },
  {
   "cell_type": "code",
   "execution_count": 47,
   "id": "9b2389fd",
   "metadata": {},
   "outputs": [
    {
     "data": {
      "text/plain": [
       "<matplotlib.image.AxesImage at 0x1722f6565b0>"
      ]
     },
     "execution_count": 47,
     "metadata": {},
     "output_type": "execute_result"
    },
    {
     "data": {
      "image/png": "[encoded data removed]",
      "text/plain": [
       "<Figure size 432x288 with 1 Axes>"
      ]
     },
     "metadata": {
      "needs_background": "light"
     },
     "output_type": "display_data"
    }
   ],
   "source": [
    "plt.imshow(dataset[0])"
   ]
  },
  {
   "cell_type": "code",
   "execution_count": 48,
   "id": "d37d9232",
   "metadata": {},
   "outputs": [
    {
     "name": "stdout",
     "output_type": "stream",
     "text": [
      "0\n"
     ]
    }
   ],
   "source": [
    "print(label[0])"
   ]
  },
  {
   "cell_type": "code",
   "execution_count": 49,
   "id": "9d21c2bb",
   "metadata": {},
   "outputs": [
    {
     "data": {
      "text/plain": [
       "<matplotlib.image.AxesImage at 0x1722f6aea60>"
      ]
     },
     "execution_count": 49,
     "metadata": {},
     "output_type": "execute_result"
    },
    {
     "data": {
      "image/png": "[encoded data removed]",
      "text/plain": [
       "<Figure size 432x288 with 1 Axes>"
      ]
     },
     "metadata": {
      "needs_background": "light"
     },
     "output_type": "display_data"
    }
   ],
   "source": [
    "plt.imshow(dataset[1500])"
   ]
  },
  {
   "cell_type": "code",
   "execution_count": 50,
   "id": "05d9d459",
   "metadata": {},
   "outputs": [
    {
     "name": "stdout",
     "output_type": "stream",
     "text": [
      "1\n"
     ]
    }
   ],
   "source": [
    "print(label[1500])"
   ]
  },
  {
   "cell_type": "code",
   "execution_count": 51,
   "id": "3f5fc77b",
   "metadata": {},
   "outputs": [
    {
     "data": {
      "text/plain": [
       "{0, 1}"
      ]
     },
     "execution_count": 51,
     "metadata": {},
     "output_type": "execute_result"
    }
   ],
   "source": [
    "set(label) #these r the class labels"
   ]
  },
  {
   "cell_type": "markdown",
   "id": "8f655b48",
   "metadata": {},
   "source": [
    "# convert this dataset into array"
   ]
  },
  {
   "cell_type": "code",
   "execution_count": 52,
   "id": "a230a518",
   "metadata": {},
   "outputs": [],
   "source": [
    "dataset=np.array(dataset)\n",
    "label=np.array(label)"
   ]
  },
  {
   "cell_type": "code",
   "execution_count": 53,
   "id": "b43ae569",
   "metadata": {},
   "outputs": [],
   "source": [
    "x_train,x_test,y_train,y_test=train_test_split(dataset,label,test_size=0.2,random_state=0)"
   ]
  },
  {
   "cell_type": "code",
   "execution_count": 54,
   "id": "87e8e6f4",
   "metadata": {},
   "outputs": [],
   "source": [
    "# (n,image_width,image_height,n_channel)"
   ]
  },
  {
   "cell_type": "code",
   "execution_count": 55,
   "id": "4f60bf99",
   "metadata": {},
   "outputs": [
    {
     "name": "stdout",
     "output_type": "stream",
     "text": [
      "(2400, 64, 64, 3)\n",
      "(2400,)\n",
      "(600, 64, 64, 3)\n",
      "(600,)\n"
     ]
    }
   ],
   "source": [
    "print(x_train.shape)\n",
    "print(y_train.shape)\n",
    "print(x_test.shape)\n",
    "print(y_test.shape)"
   ]
  },
  {
   "cell_type": "code",
   "execution_count": 56,
   "id": "01606d59",
   "metadata": {},
   "outputs": [],
   "source": [
    "#for naormalize data\n",
    "\n",
    "import tensorflow as tf\n",
    "from tensorflow import keras\n",
    "from tensorflow.keras.utils import normalize, to_categorical"
   ]
  },
  {
   "cell_type": "code",
   "execution_count": 57,
   "id": "6452637a",
   "metadata": {},
   "outputs": [],
   "source": [
    "x_train = normalize(x_train,axis=1)\n",
    "x_test = normalize(x_test,axis=1)"
   ]
  },
  {
   "cell_type": "code",
   "execution_count": 58,
   "id": "efb91ddd",
   "metadata": {},
   "outputs": [],
   "source": [
    "y_train=to_categorical(y_train, num_classes=2)\n",
    "y_test=to_categorical(y_test,num_classes=2)"
   ]
  },
  {
   "cell_type": "markdown",
   "id": "11366a23",
   "metadata": {},
   "source": [
    "# for creating Model"
   ]
  },
  {
   "cell_type": "code",
   "execution_count": 59,
   "id": "fe19068e",
   "metadata": {},
   "outputs": [],
   "source": [
    "from tensorflow.keras.layers import Conv2D,MaxPooling2D\n",
    "from tensorflow.keras.models import Sequential\n",
    "from tensorflow.keras.layers import Activation, Dropout,Flatten,Dense"
   ]
  },
  {
   "cell_type": "code",
   "execution_count": 60,
   "id": "b424d6e4",
   "metadata": {},
   "outputs": [],
   "source": [
    "model=Sequential()\n",
    "\n",
    "model.add(Conv2D(32,(3,3),input_shape=(INPUT_SIZE,INPUT_SIZE,3))) #64,64,3\n",
    "model.add(Activation('relu'))\n",
    "model.add(MaxPooling2D(pool_size=(2,2)))\n",
    "\n",
    "model.add(Conv2D(32,(3,3),kernel_initializer='he_uniform')) \n",
    "model.add(Activation('relu'))\n",
    "model.add(MaxPooling2D(pool_size=(2,2)))\n",
    "\n",
    "model.add(Conv2D(64,(3,3),kernel_initializer='he_uniform'))\n",
    "model.add(Activation('relu'))\n",
    "model.add(MaxPooling2D(pool_size=(2,2)))\n",
    "\n",
    "model.add(Flatten())\n",
    "model.add(Dense(64))\n",
    "model.add(Activation('relu'))\n",
    "model.add(Dropout(0.5))\n",
    "model.add(Dense(2))\n",
    "model.add(Activation('softmax'))"
   ]
  },
  {
   "cell_type": "code",
   "execution_count": 61,
   "id": "39811253",
   "metadata": {},
   "outputs": [],
   "source": [
    "# Binary Cross Entropy= 1, sigmoid\n",
    "# Categorical Cross Entryopy= 2, softmax"
   ]
  },
  {
   "cell_type": "markdown",
   "id": "5def6cbd",
   "metadata": {},
   "source": [
    "# Compiling the model"
   ]
  },
  {
   "cell_type": "code",
   "execution_count": 66,
   "id": "b8d56313",
   "metadata": {},
   "outputs": [],
   "source": [
    "model.compile(loss='categorical_crossentropy',\n",
    "              optimizer='adam',\n",
    "             metrics=['accuracy'])"
   ]
  },
  {
   "cell_type": "code",
   "execution_count": 67,
   "id": "8049dcbd",
   "metadata": {},
   "outputs": [
    {
     "name": "stdout",
     "output_type": "stream",
     "text": [
      "Model: \"sequential_1\"\n",
      "_________________________________________________________________\n",
      "Layer (type)                 Output Shape              Param #   \n",
      "=================================================================\n",
      "conv2d_3 (Conv2D)            (None, 62, 62, 32)        896       \n",
      "_________________________________________________________________\n",
      "activation_5 (Activation)    (None, 62, 62, 32)        0         \n",
      "_________________________________________________________________\n",
      "max_pooling2d_3 (MaxPooling2 (None, 31, 31, 32)        0         \n",
      "_________________________________________________________________\n",
      "conv2d_4 (Conv2D)            (None, 29, 29, 32)        9248      \n",
      "_________________________________________________________________\n",
      "activation_6 (Activation)    (None, 29, 29, 32)        0         \n",
      "_________________________________________________________________\n",
      "max_pooling2d_4 (MaxPooling2 (None, 14, 14, 32)        0         \n",
      "_________________________________________________________________\n",
      "conv2d_5 (Conv2D)            (None, 12, 12, 64)        18496     \n",
      "_________________________________________________________________\n",
      "activation_7 (Activation)    (None, 12, 12, 64)        0         \n",
      "_________________________________________________________________\n",
      "max_pooling2d_5 (MaxPooling2 (None, 6, 6, 64)          0         \n",
      "_________________________________________________________________\n",
      "flatten_1 (Flatten)          (None, 2304)              0         \n",
      "_________________________________________________________________\n",
      "dense_2 (Dense)              (None, 64)                147520    \n",
      "_________________________________________________________________\n",
      "activation_8 (Activation)    (None, 64)                0         \n",
      "_________________________________________________________________\n",
      "dropout_1 (Dropout)          (None, 64)                0         \n",
      "_________________________________________________________________\n",
      "dense_3 (Dense)              (None, 2)                 130       \n",
      "_________________________________________________________________\n",
      "activation_9 (Activation)    (None, 2)                 0         \n",
      "=================================================================\n",
      "Total params: 176,290\n",
      "Trainable params: 176,290\n",
      "Non-trainable params: 0\n",
      "_________________________________________________________________\n"
     ]
    }
   ],
   "source": [
    "model.summary()"
   ]
  },
  {
   "cell_type": "raw",
   "id": "7a9e8aac",
   "metadata": {},
   "source": [
    "The `model.summary()` output shows the ARCHITECTURE of your CNN model. It provides a breakdown of each layer, its output shape, and the number of parameters (trainable parameters) associated with each layer. Here's a quick interpretation of the summary:\n",
    "\n",
    "1. **Conv2D Layers:** These layers perform convolutional operations on the input images. The output shape indicates the dimensions of the feature maps after each convolution. The first Conv2D layer has 896 parameters, the second has 9,248 parameters, and the third has 18,496 parameters.\n",
    "\n",
    "2. **Activation Layers:** These layers apply activation functions to the outputs of the Conv2D layers. The 'relu' activation function is used here.\n",
    "\n",
    "3. **MaxPooling2D Layers:** These layers perform max-pooling operations to reduce the spatial dimensions of the feature maps while retaining important features.\n",
    "\n",
    "4. **Flatten Layer:** This layer converts the 3D feature maps into a 1D vector, which is then used as input for the fully connected layers.\n",
    "\n",
    "5. **Dense Layers:** These fully connected layers learn complex patterns from the extracted features. The first Dense layer has 147,520 parameters, and the second has 65 parameters.\n",
    "\n",
    "6. **Activation Layers:** These layers apply activation functions to the outputs of the Dense layers. The last layer uses the 'sigmoid' activation, which is typical for binary classification tasks.\n",
    "\n",
    "The total number of trainable parameters in your model is 176,225. These parameters are learned during training to optimize the model's performance on the given task.  model architecture is well-structured for a binary classification problem. Now you can proceed to train the model using your training data and evaluate its performance on your testing data."
   ]
  },
  {
   "cell_type": "markdown",
   "id": "0375bd96",
   "metadata": {},
   "source": [
    "# Training the model"
   ]
  },
  {
   "cell_type": "code",
   "execution_count": 68,
   "id": "566fe268",
   "metadata": {},
   "outputs": [
    {
     "name": "stdout",
     "output_type": "stream",
     "text": [
      "Epoch 1/10\n",
      "150/150 [==============================] - 5s 35ms/step - loss: 0.5544 - accuracy: 0.7246 - val_loss: 0.4619 - val_accuracy: 0.8067\n",
      "Epoch 2/10\n",
      "150/150 [==============================] - 5s 35ms/step - loss: 0.4043 - accuracy: 0.8200 - val_loss: 0.3498 - val_accuracy: 0.8600\n",
      "Epoch 3/10\n",
      "150/150 [==============================] - 5s 34ms/step - loss: 0.3285 - accuracy: 0.8571 - val_loss: 0.3532 - val_accuracy: 0.8350\n",
      "Epoch 4/10\n",
      "150/150 [==============================] - 5s 35ms/step - loss: 0.2374 - accuracy: 0.9033 - val_loss: 0.1930 - val_accuracy: 0.9467\n",
      "Epoch 5/10\n",
      "150/150 [==============================] - 5s 36ms/step - loss: 0.1616 - accuracy: 0.9388 - val_loss: 0.1681 - val_accuracy: 0.9383\n",
      "Epoch 6/10\n",
      "150/150 [==============================] - 6s 37ms/step - loss: 0.1165 - accuracy: 0.9600 - val_loss: 0.1343 - val_accuracy: 0.9500\n",
      "Epoch 7/10\n",
      "150/150 [==============================] - 6s 37ms/step - loss: 0.0812 - accuracy: 0.9733 - val_loss: 0.0890 - val_accuracy: 0.9717\n",
      "Epoch 8/10\n",
      "150/150 [==============================] - 6s 38ms/step - loss: 0.0548 - accuracy: 0.9825 - val_loss: 0.0790 - val_accuracy: 0.9750\n",
      "Epoch 9/10\n",
      "150/150 [==============================] - 6s 38ms/step - loss: 0.0334 - accuracy: 0.9904 - val_loss: 0.0652 - val_accuracy: 0.9817\n",
      "Epoch 10/10\n",
      "150/150 [==============================] - 6s 39ms/step - loss: 0.0343 - accuracy: 0.9904 - val_loss: 0.0827 - val_accuracy: 0.9800\n"
     ]
    },
    {
     "data": {
      "text/plain": [
       "<tensorflow.python.keras.callbacks.History at 0x1722f01acd0>"
      ]
     },
     "execution_count": 68,
     "metadata": {},
     "output_type": "execute_result"
    }
   ],
   "source": [
    "model.fit(x_train, y_train,\n",
    "          batch_size=16,\n",
    "          verbose=1,\n",
    "          epochs=10,\n",
    "          validation_data=(x_test, y_test))\n"
   ]
  },
  {
   "cell_type": "code",
   "execution_count": 69,
   "id": "d5fbab20",
   "metadata": {},
   "outputs": [],
   "source": [
    "model.save('BrainTumor10EpochsCategorical.h5')"
   ]
  },
  {
   "cell_type": "code",
   "execution_count": 70,
   "id": "3967c7ce",
   "metadata": {},
   "outputs": [
    {
     "name": "stdout",
     "output_type": "stream",
     "text": [
      "19/19 [==============================] - 0s 14ms/step - loss: 0.0827 - accuracy: 0.9800\n",
      "testSet Accuracy 98.00000190734863\n"
     ]
    }
   ],
   "source": [
    "loss,accuracy = model.evaluate(x_test,y_test)\n",
    "print('testSet Accuracy',accuracy*100)"
   ]
  },
  {
   "cell_type": "markdown",
   "id": "0846713d",
   "metadata": {},
   "source": [
    "# predictions on Testset"
   ]
  },
  {
   "cell_type": "code",
   "execution_count": 71,
   "id": "bc4573f7",
   "metadata": {},
   "outputs": [
    {
     "name": "stdout",
     "output_type": "stream",
     "text": [
      "shape of preds: (600, 2)\n"
     ]
    }
   ],
   "source": [
    "preds=model.predict(x_test)\n",
    "print('shape of preds:',preds.shape)"
   ]
  }
 ],
 "metadata": {
  "kernelspec": {
   "display_name": "Python 3",
   "language": "python",
   "name": "python3"
  },
  "language_info": {
   "codemirror_mode": {
    "name": "ipython",
    "version": 3
   },
   "file_extension": ".py",
   "mimetype": "text/x-python",
   "name": "python",
   "nbconvert_exporter": "python",
   "pygments_lexer": "ipython3",
   "version": "3.8.8"
  }
 },
 "nbformat": 4,
 "nbformat_minor": 5
}
